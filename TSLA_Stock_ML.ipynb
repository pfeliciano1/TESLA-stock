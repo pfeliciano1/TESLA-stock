{
 "cells": [
  {
   "cell_type": "code",
   "execution_count": 1,
   "metadata": {},
   "outputs": [],
   "source": [
    "#Importind dependencies\n",
    "import pandas as pd\n",
    "import numpy as np\n",
    "import matplotlib.pyplot as plt\n",
    "from sklearn.preprocessing import MinMaxScaler\n",
    "from keras.models import Sequential, load_model\n",
    "from keras.layers import LSTM, Dense, Dropout"
   ]
  },
  {
   "cell_type": "code",
   "execution_count": 2,
   "metadata": {},
   "outputs": [
    {
     "data": {
      "text/html": [
       "<div>\n",
       "<style scoped>\n",
       "    .dataframe tbody tr th:only-of-type {\n",
       "        vertical-align: middle;\n",
       "    }\n",
       "\n",
       "    .dataframe tbody tr th {\n",
       "        vertical-align: top;\n",
       "    }\n",
       "\n",
       "    .dataframe thead th {\n",
       "        text-align: right;\n",
       "    }\n",
       "</style>\n",
       "<table border=\"1\" class=\"dataframe\">\n",
       "  <thead>\n",
       "    <tr style=\"text-align: right;\">\n",
       "      <th></th>\n",
       "      <th>Date</th>\n",
       "      <th>Open</th>\n",
       "      <th>High</th>\n",
       "      <th>Low</th>\n",
       "      <th>Close</th>\n",
       "      <th>Adj Close</th>\n",
       "      <th>Volume</th>\n",
       "    </tr>\n",
       "  </thead>\n",
       "  <tbody>\n",
       "    <tr>\n",
       "      <th>0</th>\n",
       "      <td>2010-07-01</td>\n",
       "      <td>5.000000</td>\n",
       "      <td>5.184000</td>\n",
       "      <td>4.054000</td>\n",
       "      <td>4.392000</td>\n",
       "      <td>4.392000</td>\n",
       "      <td>41094000</td>\n",
       "    </tr>\n",
       "    <tr>\n",
       "      <th>1</th>\n",
       "      <td>2010-07-02</td>\n",
       "      <td>4.600000</td>\n",
       "      <td>4.620000</td>\n",
       "      <td>3.742000</td>\n",
       "      <td>3.840000</td>\n",
       "      <td>3.840000</td>\n",
       "      <td>25699000</td>\n",
       "    </tr>\n",
       "    <tr>\n",
       "      <th>2</th>\n",
       "      <td>2010-07-06</td>\n",
       "      <td>4.000000</td>\n",
       "      <td>4.000000</td>\n",
       "      <td>3.166000</td>\n",
       "      <td>3.222000</td>\n",
       "      <td>3.222000</td>\n",
       "      <td>34334500</td>\n",
       "    </tr>\n",
       "    <tr>\n",
       "      <th>3</th>\n",
       "      <td>2010-07-07</td>\n",
       "      <td>3.280000</td>\n",
       "      <td>3.326000</td>\n",
       "      <td>2.996000</td>\n",
       "      <td>3.160000</td>\n",
       "      <td>3.160000</td>\n",
       "      <td>34608500</td>\n",
       "    </tr>\n",
       "    <tr>\n",
       "      <th>4</th>\n",
       "      <td>2010-07-08</td>\n",
       "      <td>3.228000</td>\n",
       "      <td>3.504000</td>\n",
       "      <td>3.114000</td>\n",
       "      <td>3.492000</td>\n",
       "      <td>3.492000</td>\n",
       "      <td>38557000</td>\n",
       "    </tr>\n",
       "    <tr>\n",
       "      <th>...</th>\n",
       "      <td>...</td>\n",
       "      <td>...</td>\n",
       "      <td>...</td>\n",
       "      <td>...</td>\n",
       "      <td>...</td>\n",
       "      <td>...</td>\n",
       "      <td>...</td>\n",
       "    </tr>\n",
       "    <tr>\n",
       "      <th>2838</th>\n",
       "      <td>2021-10-08</td>\n",
       "      <td>796.210022</td>\n",
       "      <td>796.380005</td>\n",
       "      <td>780.909973</td>\n",
       "      <td>785.489990</td>\n",
       "      <td>785.489990</td>\n",
       "      <td>16711100</td>\n",
       "    </tr>\n",
       "    <tr>\n",
       "      <th>2839</th>\n",
       "      <td>2021-10-11</td>\n",
       "      <td>787.650024</td>\n",
       "      <td>801.239990</td>\n",
       "      <td>785.500000</td>\n",
       "      <td>791.940002</td>\n",
       "      <td>791.940002</td>\n",
       "      <td>14200300</td>\n",
       "    </tr>\n",
       "    <tr>\n",
       "      <th>2840</th>\n",
       "      <td>2021-10-12</td>\n",
       "      <td>800.929993</td>\n",
       "      <td>812.320007</td>\n",
       "      <td>796.570007</td>\n",
       "      <td>805.719971</td>\n",
       "      <td>805.719971</td>\n",
       "      <td>22020000</td>\n",
       "    </tr>\n",
       "    <tr>\n",
       "      <th>2841</th>\n",
       "      <td>2021-10-13</td>\n",
       "      <td>810.469971</td>\n",
       "      <td>815.409973</td>\n",
       "      <td>805.780029</td>\n",
       "      <td>811.080017</td>\n",
       "      <td>811.080017</td>\n",
       "      <td>14120100</td>\n",
       "    </tr>\n",
       "    <tr>\n",
       "      <th>2842</th>\n",
       "      <td>2021-10-14</td>\n",
       "      <td>815.489990</td>\n",
       "      <td>820.250000</td>\n",
       "      <td>813.349976</td>\n",
       "      <td>818.320007</td>\n",
       "      <td>818.320007</td>\n",
       "      <td>12203200</td>\n",
       "    </tr>\n",
       "  </tbody>\n",
       "</table>\n",
       "<p>2843 rows × 7 columns</p>\n",
       "</div>"
      ],
      "text/plain": [
       "            Date        Open        High         Low       Close   Adj Close  \\\n",
       "0     2010-07-01    5.000000    5.184000    4.054000    4.392000    4.392000   \n",
       "1     2010-07-02    4.600000    4.620000    3.742000    3.840000    3.840000   \n",
       "2     2010-07-06    4.000000    4.000000    3.166000    3.222000    3.222000   \n",
       "3     2010-07-07    3.280000    3.326000    2.996000    3.160000    3.160000   \n",
       "4     2010-07-08    3.228000    3.504000    3.114000    3.492000    3.492000   \n",
       "...          ...         ...         ...         ...         ...         ...   \n",
       "2838  2021-10-08  796.210022  796.380005  780.909973  785.489990  785.489990   \n",
       "2839  2021-10-11  787.650024  801.239990  785.500000  791.940002  791.940002   \n",
       "2840  2021-10-12  800.929993  812.320007  796.570007  805.719971  805.719971   \n",
       "2841  2021-10-13  810.469971  815.409973  805.780029  811.080017  811.080017   \n",
       "2842  2021-10-14  815.489990  820.250000  813.349976  818.320007  818.320007   \n",
       "\n",
       "        Volume  \n",
       "0     41094000  \n",
       "1     25699000  \n",
       "2     34334500  \n",
       "3     34608500  \n",
       "4     38557000  \n",
       "...        ...  \n",
       "2838  16711100  \n",
       "2839  14200300  \n",
       "2840  22020000  \n",
       "2841  14120100  \n",
       "2842  12203200  \n",
       "\n",
       "[2843 rows x 7 columns]"
      ]
     },
     "execution_count": 2,
     "metadata": {},
     "output_type": "execute_result"
    }
   ],
   "source": [
    "# Read CSV file and display df\n",
    "TSLA = pd.read_csv('Resources/TSLA.csv')\n",
    "TSLA"
   ]
  },
  {
   "cell_type": "code",
   "execution_count": 3,
   "metadata": {},
   "outputs": [
    {
     "data": {
      "text/plain": [
       "(2843, 7)"
      ]
     },
     "execution_count": 3,
     "metadata": {},
     "output_type": "execute_result"
    }
   ],
   "source": [
    "#Features (number of trading days, columns)\n",
    "TSLA.shape"
   ]
  },
  {
   "cell_type": "code",
   "execution_count": 4,
   "metadata": {},
   "outputs": [],
   "source": [
    "TSLA = TSLA['Open'].values\n",
    "TSLA = TSLA.reshape(-1, 1)"
   ]
  },
  {
   "cell_type": "code",
   "execution_count": 5,
   "metadata": {},
   "outputs": [],
   "source": [
    "#Split data into train and test\n",
    "dataset_train = np.array(TSLA[:int(TSLA.shape[0]*0.8)])\n",
    "dataset_test = np.array(TSLA[int(TSLA.shape[0]*0.8):])"
   ]
  },
  {
   "cell_type": "code",
   "execution_count": 6,
   "metadata": {},
   "outputs": [],
   "source": [
    "#Scale data\n",
    "scaler = MinMaxScaler(feature_range=(0,1))\n",
    "dataset_train = scaler.fit_transform(dataset_train)\n",
    "dataset_test = scaler.transform(dataset_test)"
   ]
  },
  {
   "cell_type": "code",
   "execution_count": 7,
   "metadata": {},
   "outputs": [],
   "source": [
    "#Create function for datasets\n",
    "def create_dataset(df):\n",
    "    x = []\n",
    "    y = []\n",
    "    for i in range(60, TSLA.shape[0]):\n",
    "        x.append(TSLA[i-60:i, 0])\n",
    "        y.append(TSLA[i, 0])\n",
    "    x = np.array(x)\n",
    "    y = np.array(y)\n",
    "    return x,y"
   ]
  },
  {
   "cell_type": "code",
   "execution_count": 8,
   "metadata": {},
   "outputs": [],
   "source": [
    "#Create training and testing data\n",
    "x_train, y_train = create_dataset(dataset_train)\n",
    "x_test, y_test = create_dataset(dataset_test)"
   ]
  },
  {
   "cell_type": "code",
   "execution_count": 9,
   "metadata": {},
   "outputs": [],
   "source": [
    "#Reshape data\n",
    "x_train = np.reshape(x_train, (x_train.shape[0], x_train.shape[1], 1))\n",
    "x_test = np.reshape(x_test, (x_test.shape[0], x_test.shape[1], 1))"
   ]
  },
  {
   "cell_type": "code",
   "execution_count": 16,
   "metadata": {},
   "outputs": [],
   "source": [
    "#Building a Sequential model\n",
    "model = Sequential()\n",
    "model.add(LSTM(units=96, return_sequences=True, input_shape=(x_train.shape[1], 1)))\n",
    "model.add(Dropout(0.2))\n",
    "model.add(LSTM(units=96,return_sequences=True))\n",
    "model.add(Dropout(0.2))\n",
    "model.add(LSTM(units=96,return_sequences=True))\n",
    "model.add(Dropout(0.2))\n",
    "model.add(LSTM(units=96))\n",
    "model.add(Dropout(0.2))\n",
    "model.add(Dense(units=1))"
   ]
  },
  {
   "cell_type": "code",
   "execution_count": 17,
   "metadata": {},
   "outputs": [],
   "source": [
    "#Reshape data again\n",
    "x_train = np.reshape(x_train, (x_train.shape[0], x_train.shape[1], 1))\n",
    "x_test = np.reshape(x_test, (x_test.shape[0], x_test.shape[1], 1))"
   ]
  },
  {
   "cell_type": "code",
   "execution_count": 18,
   "metadata": {},
   "outputs": [],
   "source": [
    "#Compile model\n",
    "model.compile(loss='mean_squared_error', optimizer='adam')"
   ]
  },
  {
   "cell_type": "code",
   "execution_count": 19,
   "metadata": {},
   "outputs": [
    {
     "name": "stdout",
     "output_type": "stream",
     "text": [
      "Epoch 1/50\n",
      "87/87 [==============================] - 18s 147ms/step - loss: 44976.8828\n",
      "Epoch 2/50\n",
      "87/87 [==============================] - 23s 269ms/step - loss: 43216.2656\n",
      "Epoch 3/50\n",
      "87/87 [==============================] - 17s 198ms/step - loss: 42028.3750\n",
      "Epoch 4/50\n",
      "87/87 [==============================] - 15s 174ms/step - loss: 40995.8906\n",
      "Epoch 5/50\n",
      "87/87 [==============================] - 15s 170ms/step - loss: 40168.2812\n",
      "Epoch 6/50\n",
      "87/87 [==============================] - 16s 183ms/step - loss: 39433.6133\n",
      "Epoch 7/50\n",
      "87/87 [==============================] - 16s 186ms/step - loss: 38853.8633\n",
      "Epoch 8/50\n",
      "87/87 [==============================] - 16s 179ms/step - loss: 38285.8516\n",
      "Epoch 9/50\n",
      "87/87 [==============================] - 15s 171ms/step - loss: 37856.1484\n",
      "Epoch 10/50\n",
      "87/87 [==============================] - 15s 174ms/step - loss: 37557.7656\n",
      "Epoch 11/50\n",
      "87/87 [==============================] - 15s 169ms/step - loss: 37251.4062\n",
      "Epoch 12/50\n",
      "87/87 [==============================] - 15s 172ms/step - loss: 36916.6758\n",
      "Epoch 13/50\n",
      "87/87 [==============================] - 15s 167ms/step - loss: 34480.3750\n",
      "Epoch 14/50\n",
      "87/87 [==============================] - 15s 176ms/step - loss: 33505.4414\n",
      "Epoch 15/50\n",
      "87/87 [==============================] - 15s 169ms/step - loss: 32485.8477\n",
      "Epoch 16/50\n",
      "87/87 [==============================] - 14s 163ms/step - loss: 31641.0547\n",
      "Epoch 17/50\n",
      "87/87 [==============================] - 14s 163ms/step - loss: 30832.1992\n",
      "Epoch 18/50\n",
      "87/87 [==============================] - 15s 172ms/step - loss: 29882.1738\n",
      "Epoch 19/50\n",
      "87/87 [==============================] - 17s 194ms/step - loss: 29153.1465\n",
      "Epoch 20/50\n",
      "87/87 [==============================] - 15s 170ms/step - loss: 28359.2031\n",
      "Epoch 21/50\n",
      "87/87 [==============================] - 14s 162ms/step - loss: 27549.9414\n",
      "Epoch 22/50\n",
      "87/87 [==============================] - 14s 164ms/step - loss: 26953.0195\n",
      "Epoch 23/50\n",
      "87/87 [==============================] - 14s 162ms/step - loss: 26164.8633\n",
      "Epoch 24/50\n",
      "87/87 [==============================] - 14s 159ms/step - loss: 25459.4863\n",
      "Epoch 25/50\n",
      "87/87 [==============================] - 14s 158ms/step - loss: 24763.0996\n",
      "Epoch 26/50\n",
      "87/87 [==============================] - 14s 157ms/step - loss: 24141.5273\n",
      "Epoch 27/50\n",
      "87/87 [==============================] - 15s 173ms/step - loss: 23530.3438\n",
      "Epoch 28/50\n",
      "87/87 [==============================] - 14s 157ms/step - loss: 22847.9336\n",
      "Epoch 29/50\n",
      "87/87 [==============================] - 14s 157ms/step - loss: 22320.3789\n",
      "Epoch 30/50\n",
      "87/87 [==============================] - 13s 154ms/step - loss: 21575.5723\n",
      "Epoch 31/50\n",
      "87/87 [==============================] - 14s 158ms/step - loss: 21018.9395\n",
      "Epoch 32/50\n",
      "87/87 [==============================] - 14s 158ms/step - loss: 20571.4336\n",
      "Epoch 33/50\n",
      "87/87 [==============================] - 14s 157ms/step - loss: 19911.2344\n",
      "Epoch 34/50\n",
      "87/87 [==============================] - 13s 154ms/step - loss: 19410.8535\n",
      "Epoch 35/50\n",
      "87/87 [==============================] - 13s 152ms/step - loss: 19013.0234\n",
      "Epoch 36/50\n",
      "87/87 [==============================] - 13s 153ms/step - loss: 18293.1230\n",
      "Epoch 37/50\n",
      "87/87 [==============================] - 13s 149ms/step - loss: 17826.7129\n",
      "Epoch 38/50\n",
      "87/87 [==============================] - 13s 148ms/step - loss: 17449.4961\n",
      "Epoch 39/50\n",
      "87/87 [==============================] - 13s 148ms/step - loss: 16903.1055\n",
      "Epoch 40/50\n",
      "87/87 [==============================] - 13s 147ms/step - loss: 16384.9785\n",
      "Epoch 41/50\n",
      "87/87 [==============================] - 13s 150ms/step - loss: 15860.1650\n",
      "Epoch 42/50\n",
      "87/87 [==============================] - 13s 146ms/step - loss: 15548.7930\n",
      "Epoch 43/50\n",
      "87/87 [==============================] - 13s 146ms/step - loss: 14999.3262\n",
      "Epoch 44/50\n",
      "87/87 [==============================] - 13s 147ms/step - loss: 14528.7803\n",
      "Epoch 45/50\n",
      "87/87 [==============================] - 13s 145ms/step - loss: 14055.3730\n",
      "Epoch 46/50\n",
      "87/87 [==============================] - 13s 147ms/step - loss: 13676.0732\n",
      "Epoch 47/50\n",
      "87/87 [==============================] - 13s 146ms/step - loss: 13391.2998\n",
      "Epoch 48/50\n",
      "87/87 [==============================] - 13s 147ms/step - loss: 12937.2393\n",
      "Epoch 49/50\n",
      "87/87 [==============================] - 13s 151ms/step - loss: 12559.7617\n",
      "Epoch 50/50\n",
      "87/87 [==============================] - 16s 181ms/step - loss: 12187.3086\n"
     ]
    }
   ],
   "source": [
    "#Fit data and save model\n",
    "model.fit(x_train, y_train, epochs=50, batch_size=32)\n",
    "model.save('stock_prediction.h5')"
   ]
  },
  {
   "cell_type": "code",
   "execution_count": 20,
   "metadata": {},
   "outputs": [],
   "source": [
    "#Loading model\n",
    "model = load_model('stock_prediction.h5')"
   ]
  },
  {
   "cell_type": "code",
   "execution_count": 21,
   "metadata": {},
   "outputs": [
    {
     "data": {
      "text/plain": [
       "<matplotlib.legend.Legend at 0x7fe1921d1730>"
      ]
     },
     "execution_count": 21,
     "metadata": {},
     "output_type": "execute_result"
    },
    {
     "data": {
      "image/png": "[encoded data removed]",
      "text/plain": [
       "<Figure size 1152x576 with 1 Axes>"
      ]
     },
     "metadata": {
      "needs_background": "light"
     },
     "output_type": "display_data"
    }
   ],
   "source": [
    "#Plotting the results\n",
    "predictions = model.predict(x_test)\n",
    "predictions = scaler.inverse_transform(predictions)\n",
    "y_test_scaled = scaler.inverse_transform(y_test.reshape(-1, 1))\n",
    "\n",
    "fig, ax = plt.subplots(figsize=(16,8))\n",
    "ax.set_facecolor('#000041')\n",
    "ax.plot(y_test_scaled, color='red', label='Original price')\n",
    "plt.plot(predictions, color='cyan', label='Predicted price')\n",
    "plt.legend()"
   ]
  },
  {
   "cell_type": "code",
   "execution_count": null,
   "metadata": {},
   "outputs": [],
   "source": []
  }
 ],
 "metadata": {
  "kernelspec": {
   "display_name": "Python 3",
   "language": "python",
   "name": "python3"
  },
  "language_info": {
   "codemirror_mode": {
    "name": "ipython",
    "version": 3
   },
   "file_extension": ".py",
   "mimetype": "text/x-python",
   "name": "python",
   "nbconvert_exporter": "python",
   "pygments_lexer": "ipython3",
   "version": "3.8.5"
  }
 },
 "nbformat": 4,
 "nbformat_minor": 4
}
